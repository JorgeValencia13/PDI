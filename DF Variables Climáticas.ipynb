{
 "cells": [
  {
   "cell_type": "markdown",
   "id": "f2a3be10",
   "metadata": {},
   "source": [
    "Actividad 1 PDI AC"
   ]
  },
  {
   "cell_type": "markdown",
   "id": "0009c6d3",
   "metadata": {},
   "source": [
    "L\n"
   ]
  },
  {
   "cell_type": "code",
   "execution_count": 1,
   "id": "fd748fa1",
   "metadata": {},
   "outputs": [],
   "source": [
    "import pandas as pd\n",
    "import numpy as np\n",
    "import matplotlib.pyplot as plt"
   ]
  },
  {
   "cell_type": "code",
   "execution_count": 2,
   "id": "71968e39",
   "metadata": {},
   "outputs": [],
   "source": [
    "path = 'La_Esperanza.xlsx'"
   ]
  },
  {
   "cell_type": "code",
   "execution_count": 3,
   "id": "b754a9cf",
   "metadata": {},
   "outputs": [],
   "source": [
    "esperanza = pd.read_excel(path)"
   ]
  },
  {
   "cell_type": "code",
   "execution_count": 4,
   "id": "38fafbde",
   "metadata": {},
   "outputs": [],
   "source": [
    "#print(esperanza)"
   ]
  },
  {
   "cell_type": "code",
   "execution_count": 5,
   "id": "621937a9",
   "metadata": {},
   "outputs": [],
   "source": [
    "#Tipo de variable\n",
    "#type(esperanza)"
   ]
  },
  {
   "cell_type": "code",
   "execution_count": 6,
   "id": "6a069709",
   "metadata": {},
   "outputs": [],
   "source": [
    "# me indica que columnas tienen mis datos\n",
    "#esperanza.columns"
   ]
  },
  {
   "cell_type": "code",
   "execution_count": 7,
   "id": "ab0b87c1",
   "metadata": {},
   "outputs": [],
   "source": [
    "#me indica que número de filas y columnas de un DataFrame\n",
    "#esperanza.shape"
   ]
  },
  {
   "cell_type": "code",
   "execution_count": 8,
   "id": "1d0521d3",
   "metadata": {},
   "outputs": [],
   "source": [
    "#Hay valores nulos en los datos?\n",
    "#esperanza.info()"
   ]
  },
  {
   "cell_type": "code",
   "execution_count": 9,
   "id": "905db88f",
   "metadata": {},
   "outputs": [],
   "source": [
    "#Como se distribuyen los valores numéricos\n",
    "#esperanza.describe()"
   ]
  },
  {
   "cell_type": "code",
   "execution_count": 10,
   "id": "f7e515f8",
   "metadata": {},
   "outputs": [],
   "source": [
    "# Suma de las columnas del DataFrame\n",
    "#esperanza.sum()"
   ]
  },
  {
   "cell_type": "code",
   "execution_count": 15,
   "id": "d03c5dcc",
   "metadata": {},
   "outputs": [
    {
     "ename": "SyntaxError",
     "evalue": "EOF while scanning triple-quoted string literal (Temp/ipykernel_9764/1313231822.py, line 45)",
     "output_type": "error",
     "traceback": [
      "\u001b[1;36m  File \u001b[1;32m\"C:\\Users\\JVALEN~1\\AppData\\Local\\Temp/ipykernel_9764/1313231822.py\"\u001b[1;36m, line \u001b[1;32m45\u001b[0m\n\u001b[1;33m    \u001b[0m\n\u001b[1;37m    ^\u001b[0m\n\u001b[1;31mSyntaxError\u001b[0m\u001b[1;31m:\u001b[0m EOF while scanning triple-quoted string literal\n"
     ]
    }
   ],
   "source": [
    "\"\"\"selec_usu='0'\n",
    "i=0\n",
    "while i != 5 :\n",
    "    selec_usu = input('Digite el número de la variable que desea consultar así: 1 Lluvia - 2 Temperatura - 3 Brillo solar - 4 Humedad Relativa - 5 Salir')\n",
    "    if selec_usu == '1':\n",
    "        suma_lluvia = esperanza['Lluvia'].sum()\n",
    "        print('El total de lluvia es: ', suma_lluvia, 'mm')\n",
    "        #selec_usu = input('Digite el número de la variable que desea consultar así: 1 Lluvia - 2 Temperatura - 3 Brillo solar - 4 Humedad Relativa - 5 Salir')\n",
    "        #i=int(selec_usu)\n",
    "        breakpoint\n",
    "    elif selec_usu == '2':\n",
    "        prom_temp = esperanza['Temperatura media'].median()\n",
    "        max_temp = esperanza['Temperatura máxima'].max()\n",
    "        min_temp = esperanza['Temperatura mínima'].min()\n",
    "        print('La temperatura media es de: ', prom_temp, '°C')\n",
    "        print('La temperatura máxima es de: ', max_temp, '°C')\n",
    "        print('La temperatura mínima es de: ', min_temp, '°C')\n",
    "        #selec_usu = input('Digite el número de la variable que desea consultar así: 1 Lluvia - 2 Temperatura - 3 Brillo solar - 4 Humedad Relativa - 5 Salir')\n",
    "        #i=int(selec_usu)\n",
    "        breakpoint\n",
    "    elif selec_usu == '3':\n",
    "        brillo_solar = esperanza['Radiación global diaria'].sum()\n",
    "        print('El total de brillo solar para este mes es de: ', brillo_solar, 'W/m²')\n",
    "        #selec_usu = input('Digite el número de la variable que desea consultar así: 1 Lluvia - 2 Temperatura - 3 Brillo solar - 4 Humedad Relativa - 5 Salir')\n",
    "        #i=int(selec_usu)\n",
    "        breakpoint\n",
    "    elif selec_usu == '4':\n",
    "        prom_hr = esperanza['Humedad relativa media'].median()\n",
    "        max_hr = esperanza['Humedad relativa máxima'].max()\n",
    "        min_hr = esperanza['Humedad relativa mínima'].min()\n",
    "        print('La humedad relativa media es de: ', prom_hr, '%HR')\n",
    "        print('La humedad relativa máxima es de: ', max_hr, '%HR')\n",
    "        print('La humedad relativa mínima es de: ', min_hr, '%HR')\n",
    "        #selec_usu = input('Digite el número de la variable que desea consultar así: 1 Lluvia - 2 Temperatura - 3 Brillo solar - 4 Humedad Relativa - 5 Salir')\n",
    "        #i=int(selec_usu)\n",
    "        breakpoint\n",
    "    elif selec_usu == '5':\n",
    "        i=5\n",
    "        breakpoint                                \n",
    "    else:\n",
    "        print('Opción invalida')\n",
    "        breakpoint\n",
    "      \n",
    "\n",
    "        \n"
   ]
  },
  {
   "cell_type": "code",
   "execution_count": 16,
   "id": "96ff5d1d",
   "metadata": {},
   "outputs": [
    {
     "ename": "SyntaxError",
     "evalue": "EOF while scanning triple-quoted string literal (Temp/ipykernel_9764/2705208170.py, line 30)",
     "output_type": "error",
     "traceback": [
      "\u001b[1;36m  File \u001b[1;32m\"C:\\Users\\JVALEN~1\\AppData\\Local\\Temp/ipykernel_9764/2705208170.py\"\u001b[1;36m, line \u001b[1;32m30\u001b[0m\n\u001b[1;33m    \u001b[0m\n\u001b[1;37m    ^\u001b[0m\n\u001b[1;31mSyntaxError\u001b[0m\u001b[1;31m:\u001b[0m EOF while scanning triple-quoted string literal\n"
     ]
    }
   ],
   "source": [
    "selec_usu = input('Digite el número de la variable que desea consultar así: 1 Lluvia - 2 Temperatura - 3 Brillo solar - 4 Humedad Relativa - 5 Salir')\n",
    "if selec_usu == '1':\n",
    "    suma_lluvia = esperanza['Lluvia'].sum()\n",
    "    print('El total de lluvia es: ', suma_lluvia, 'mm')\n",
    "\n",
    "elif selec_usu == '2':\n",
    "    prom_temp = esperanza['Temperatura media'].median()\n",
    "    max_temp = esperanza['Temperatura máxima'].max()\n",
    "    min_temp = esperanza['Temperatura mínima'].min()\n",
    "    print('La temperatura media es de: ', prom_temp, '°C')\n",
    "    print('La temperatura máxima es de: ', max_temp, '°C')\n",
    "    print('La temperatura mínima es de: ', min_temp, '°C')\n",
    "    breakpoint\n",
    "\n",
    "elif selec_usu == '3':\n",
    "    brillo_solar = esperanza['Radiación global diaria'].sum()\n",
    "    print('El total de brillo solar para este mes es de: ', brillo_solar, 'W/m²')\n",
    "    breakpoint\n",
    "\n",
    "elif selec_usu == '4':\n",
    "    prom_hr = esperanza['Humedad relativa media'].median()\n",
    "    max_hr = esperanza['Humedad relativa máxima'].max()\n",
    "    min_hr = esperanza['Humedad relativa mínima'].min()\n",
    "    print('La humedad relativa media es de: ', prom_hr, '%HR')\n",
    "    print('La humedad relativa máxima es de: ', max_hr, '%HR')\n",
    "    print('La humedad relativa mínima es de: ', min_hr, '%HR')\n",
    "    breakpoint\n",
    "\n",
    "    \n",
    "                \n"
   ]
  },
  {
   "cell_type": "code",
   "execution_count": 13,
   "id": "735b0a44",
   "metadata": {},
   "outputs": [
    {
     "data": {
      "text/plain": [
       "'5'"
      ]
     },
     "execution_count": 13,
     "metadata": {},
     "output_type": "execute_result"
    }
   ],
   "source": [
    "#selec_usu"
   ]
  },
  {
   "cell_type": "code",
   "execution_count": 17,
   "id": "c9a35c68",
   "metadata": {},
   "outputs": [
    {
     "name": "stdout",
     "output_type": "stream",
     "text": [
      "El total de lluvia es:  101.9 mm\n",
      "La temperatura media es de:  18.53 °C\n",
      "La temperatura máxima es de:  30.23 °C\n",
      "La temperatura mínima es de:  12.57 °C\n",
      "El total de brillo solar para este mes es de:  203670.87999999998 W/m²\n",
      "La humedad relativa media es de:  86.2 %HR\n",
      "La humedad relativa máxima es de:  100.0 %HR\n",
      "La humedad relativa mínima es de:  38.66 %HR\n",
      "Opción invalida\n",
      "Opción invalida\n",
      "Opción invalida\n",
      "Opción invalida\n",
      "Opción invalida\n",
      "Opción invalida\n"
     ]
    },
    {
     "data": {
      "text/plain": [
       "<function breakpoint>"
      ]
     },
     "execution_count": 17,
     "metadata": {},
     "output_type": "execute_result"
    }
   ],
   "source": [
    "selec_usu='0'\n",
    "i=0\n",
    "while i != 5 :\n",
    "    selec_usu = input('Digite el número de la variable que desea consultar así: 1 Lluvia - 2 Temperatura - 3 Brillo solar - 4 Humedad Relativa - 5 Salir')\n",
    "    if selec_usu == '1':\n",
    "        print('El total de lluvia es: ', suma_lluvia, 'mm')\n",
    "        suma_lluvia = esperanza['Lluvia'].sum()\n",
    "        i=int(selec_usu)\n",
    "        breakpoint\n",
    "\n",
    "    elif selec_usu == '2':\n",
    "        print('La temperatura media es de: ', prom_temp, '°C')\n",
    "        print('La temperatura máxima es de: ', max_temp, '°C')\n",
    "        print('La temperatura mínima es de: ', min_temp, '°C')\n",
    "        prom_temp = esperanza['Temperatura media'].median()\n",
    "        max_temp = esperanza['Temperatura máxima'].max()\n",
    "        min_temp = esperanza['Temperatura mínima'].min()\n",
    "        i=int(selec_usu)\n",
    "        breakpoint\n",
    "\n",
    "    elif selec_usu == '3':\n",
    "        print('El total de brillo solar para este mes es de: ', brillo_solar, 'W/m²')\n",
    "        brillo_solar = esperanza['Radiación global diaria'].sum()\n",
    "        i=int(selec_usu)\n",
    "        breakpoint\n",
    "\n",
    "    elif selec_usu == '4':\n",
    "        print('La humedad relativa media es de: ', prom_hr, '%HR')\n",
    "        print('La humedad relativa máxima es de: ', max_hr, '%HR')\n",
    "        print('La humedad relativa mínima es de: ', min_hr, '%HR')\n",
    "        prom_hr = esperanza['Humedad relativa media'].median()\n",
    "        max_hr = esperanza['Humedad relativa máxima'].max()\n",
    "        min_hr = esperanza['Humedad relativa mínima'].min()\n",
    "        i=int(selec_usu)\n",
    "        breakpoint\n",
    "\n",
    "    elif selec_usu == '5':\n",
    "        i=5\n",
    "        breakpoint   \n",
    "\n",
    "    else: print('Opción invalida')\n",
    "breakpoint\n"
   ]
  },
  {
   "cell_type": "code",
   "execution_count": 20,
   "id": "032318fc",
   "metadata": {},
   "outputs": [
    {
     "name": "stdout",
     "output_type": "stream",
     "text": [
      "{1, 2, 3}\n"
     ]
    }
   ],
   "source": [
    "a = {1,2}\n",
    "b = {2,3}\n",
    "print(a | b)"
   ]
  },
  {
   "cell_type": "code",
   "execution_count": 19,
   "id": "75ca2b7b",
   "metadata": {},
   "outputs": [
    {
     "name": "stdout",
     "output_type": "stream",
     "text": [
      "{'Juan', 'Nicolas', 'Miguel'}\n"
     ]
    }
   ],
   "source": [
    "names = {'Nicolas', 'Miguel', 'Juan', 'Nicolas'} \n",
    "print(names) \n"
   ]
  },
  {
   "cell_type": "code",
   "execution_count": 18,
   "metadata": {},
   "outputs": [
    {
     "name": "stdout",
     "output_type": "stream",
     "text": [
      "{1}\n"
     ]
    }
   ],
   "source": [
    "a = {1,2}\n",
    "b = {2,3}\n",
    "print(a - b)\n"
   ]
  },
  {
   "cell_type": "code",
   "execution_count": null,
   "id": "31802db4",
   "metadata": {},
   "outputs": [],
   "source": [
    "cuota = 0\n",
    "if cuota == 0 :\n",
    "    print('Buenas dias Jorge, como esta? Jorge para preguntarle por la cuota de Alice...')\n",
    "\n"
   ]
  }
 ],
 "metadata": {
  "interpreter": {
   "hash": "ad2bdc8ecc057115af97d19610ffacc2b4e99fae6737bb82f5d7fb13d2f2c186"
  },
  "kernelspec": {
   "display_name": "Python 3.9.7 ('base')",
   "language": "python",
   "name": "python3"
  },
  "language_info": {
   "codemirror_mode": {
    "name": "ipython",
    "version": 3
   },
   "file_extension": ".py",
   "mimetype": "text/x-python",
   "name": "python",
   "nbconvert_exporter": "python",
   "pygments_lexer": "ipython3",
   "version": "3.9.7"
  }
 },
 "nbformat": 4,
 "nbformat_minor": 5
}
